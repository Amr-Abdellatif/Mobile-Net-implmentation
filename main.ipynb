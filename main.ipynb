{
 "cells": [
  {
   "cell_type": "code",
   "execution_count": 1,
   "metadata": {},
   "outputs": [],
   "source": [
    "import torch\n",
    "from torch import nn "
   ]
  },
  {
   "attachments": {},
   "cell_type": "markdown",
   "metadata": {},
   "source": [
    "# Depth wise seperable convolutions\n",
    "\n",
    "1. Depthwise convs\n",
    "2. pointwise convs"
   ]
  },
  {
   "cell_type": "code",
   "execution_count": 2,
   "metadata": {},
   "outputs": [],
   "source": [
    "class Depthwise_convs(nn.Module):\n",
    "    def __init__(self,in_channels,out_channels,stride):\n",
    "        super(Depthwise_convs,self).__init__()\n",
    "        self.conv = nn.Sequential(\n",
    "            nn.Conv2d(in_channels,in_channels,\n",
    "                        kernel_size=(3),\n",
    "                        stride=stride,\n",
    "                        padding=1,\n",
    "                        groups=in_channels,\n",
    "                        bias=False\n",
    "                        ),\n",
    "                        \n",
    "            nn.BatchNorm2d(in_channels),\n",
    "            nn.ReLU() )\n",
    "        \n",
    "    def forward(self, x: torch.Tensor):\n",
    "        return self.conv(x)"
   ]
  },
  {
   "cell_type": "code",
   "execution_count": 3,
   "metadata": {},
   "outputs": [],
   "source": [
    "class pointwise_convs(nn.Module):\n",
    "    def __init__(self,in_channels,out_channels):\n",
    "        super(pointwise_convs,self).__init__()\n",
    "        \n",
    "        self.conv = nn.Sequential(\n",
    "            nn.Conv2d(in_channels,out_channels,kernel_size=(1),stride=1,bias=False),\n",
    "            nn.BatchNorm2d(out_channels),\n",
    "            nn.ReLU()\n",
    "        ) \n",
    "\n",
    "    def forward(self, x : torch.Tensor):\n",
    "        return self.conv(x)"
   ]
  },
  {
   "cell_type": "code",
   "execution_count": 4,
   "metadata": {},
   "outputs": [],
   "source": [
    "class depthwise_seperable_cons(nn.Module):\n",
    "    def __init__(self, in_channels,out_channels,stride):\n",
    "        super(depthwise_seperable_cons,self).__init__()\n",
    "\n",
    "        self.depthwise = Depthwise_convs(in_channels,out_channels,stride)\n",
    "        self.pointwise = pointwise_convs(in_channels,out_channels)\n",
    "\n",
    "    def forward(self, x : torch.Tensor):\n",
    "        x1 = self.depthwise(x)\n",
    "        x2 = self.pointwise(x1)\n",
    "        return x2"
   ]
  },
  {
   "cell_type": "code",
   "execution_count": 8,
   "metadata": {},
   "outputs": [],
   "source": [
    "class MobileNet(nn.Module):\n",
    "    def __init__(self, num_classes = 1000):\n",
    "        super(MobileNet,self).__init__()\n",
    "\n",
    "        self.model = nn.Sequential(\n",
    "\n",
    "            nn.Conv2d(in_channels=3,\n",
    "                        out_channels=32,\n",
    "                        kernel_size=3,\n",
    "                        stride=2,\n",
    "                        bias=False),\n",
    "\n",
    "            nn.ReLU(inplace=True),\n",
    "\n",
    "            depthwise_seperable_cons(32,64,1),\n",
    "            depthwise_seperable_cons(64,128,2),\n",
    "            depthwise_seperable_cons(128,128,1),\n",
    "            depthwise_seperable_cons(128,256,2),\n",
    "            depthwise_seperable_cons(256,256,1),\n",
    "            depthwise_seperable_cons(256,512,2),\n",
    "\n",
    "            depthwise_seperable_cons(512,512,1),\n",
    "            depthwise_seperable_cons(512,512,1),\n",
    "            depthwise_seperable_cons(512,512,1),\n",
    "            depthwise_seperable_cons(512,512,1),\n",
    "            depthwise_seperable_cons(512,512,1),\n",
    "            \n",
    "            depthwise_seperable_cons(512,1024,2),\n",
    "            depthwise_seperable_cons(1024,1024,1),\n",
    "\n",
    "            nn.AdaptiveAvgPool2d(1),\n",
    "        )\n",
    "\n",
    "        self.fc = nn.Linear(1024,num_classes)\n",
    "\n",
    "        self.softmax = nn.Softmax(dim=1)\n",
    "\n",
    "    def forward(self, x : torch.Tensor):\n",
    "        x1 = self.model(x)\n",
    "        print(f'this is the shape after model construction : {x1.shape}')\n",
    "        x2 = x1.reshape(x1.size(0),-1)\n",
    "        x3 = self.fc(x2)\n",
    "        x4 = self.softmax(x3)\n",
    "        \n",
    "        return x4\n",
    "    \n",
    "mobilenet_instance = MobileNet(num_classes=1000)"
   ]
  },
  {
   "cell_type": "code",
   "execution_count": 9,
   "metadata": {},
   "outputs": [
    {
     "name": "stdout",
     "output_type": "stream",
     "text": [
      "this is the shape after model construction : torch.Size([1, 1024, 1, 1])\n"
     ]
    },
    {
     "data": {
      "text/plain": [
       "torch.Size([1, 1000])"
      ]
     },
     "execution_count": 9,
     "metadata": {},
     "output_type": "execute_result"
    }
   ],
   "source": [
    "img_tensor = torch.randn(1,3,224,224)\n",
    "\n",
    "output = mobilenet_instance(img_tensor)\n",
    "output.shape"
   ]
  },
  {
   "cell_type": "code",
   "execution_count": 10,
   "metadata": {},
   "outputs": [
    {
     "name": "stdout",
     "output_type": "stream",
     "text": [
      "the no of trainable params : 4231912\n"
     ]
    }
   ],
   "source": [
    "num_parms = sum(p.numel() for p in mobilenet_instance.parameters() if p.requires_grad)\n",
    "print(f'the no of trainable params : {num_parms}')"
   ]
  },
  {
   "cell_type": "code",
   "execution_count": null,
   "metadata": {},
   "outputs": [],
   "source": [
    "4,231,912"
   ]
  },
  {
   "cell_type": "code",
   "execution_count": null,
   "metadata": {
    "vscode": {
     "languageId": "polyglot-notebook"
    }
   },
   "outputs": [],
   "source": []
  }
 ],
 "metadata": {
  "kernelspec": {
   "display_name": "Python 3",
   "language": "python",
   "name": "python3"
  },
  "language_info": {
   "codemirror_mode": {
    "name": "ipython",
    "version": 3
   },
   "file_extension": ".py",
   "mimetype": "text/x-python",
   "name": "python",
   "nbconvert_exporter": "python",
   "pygments_lexer": "ipython3",
   "version": "3.10.4"
  },
  "orig_nbformat": 4
 },
 "nbformat": 4,
 "nbformat_minor": 2
}
